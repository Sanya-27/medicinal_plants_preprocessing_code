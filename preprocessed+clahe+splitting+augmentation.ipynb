{
 "cells": [
  {
   "cell_type": "code",
   "execution_count": 1,
   "id": "cb0771ca",
   "metadata": {},
   "outputs": [],
   "source": [
    "import os\n",
    "import cv2\n",
    "import numpy as np\n",
    "from sklearn.model_selection import train_test_split\n",
    "from keras.preprocessing.image import ImageDataGenerator\n",
    "from skimage import exposure\n",
    "from skimage.color import rgb2lab, lab2rgb"
   ]
  },
  {
   "cell_type": "markdown",
   "id": "0fa39663",
   "metadata": {},
   "source": [
    "# preprocessing"
   ]
  },
  {
   "cell_type": "code",
   "execution_count": 9,
   "id": "624acd4e",
   "metadata": {},
   "outputs": [],
   "source": [
    "# Function for basic image preprocessing\n",
    "def preprocess_images(input_folder, output_folder, target_size=(224, 224)):\n",
    "    classes = os.listdir(input_folder)\n",
    "\n",
    "    for class_name in classes:\n",
    "        class_path = os.path.join(input_folder, class_name)\n",
    "        output_class_path = os.path.join(output_folder, class_name)\n",
    "        os.makedirs(output_class_path, exist_ok=True)\n",
    "\n",
    "        for filename in os.listdir(class_path):\n",
    "            img_path = os.path.join(class_path, filename)\n",
    "            img = cv2.imread(img_path)\n",
    "\n",
    "            # Resize image\n",
    "            img = cv2.resize(img, target_size)\n",
    "\n",
    "            # Normalize to range [-1, 1]\n",
    "            img = img / 127.5 - 1.0\n",
    "\n",
    "            # Save preprocessed image\n",
    "            output_path = os.path.join(output_class_path, filename)\n",
    "            cv2.imwrite(output_path, (img + 1.0) * 127.5)"
   ]
  },
  {
   "cell_type": "code",
   "execution_count": 12,
   "id": "ebbbb143",
   "metadata": {},
   "outputs": [],
   "source": [
    "\n",
    "# Define input and output folders\n",
    "input_dataset_folder = \"C:/Users/SANYA CHANDEL/Desktop/original_weeds_dataset\"\n",
    "preprocessed_folder = \"C:/Users/SANYA CHANDEL/Desktop/new_preprocessed\""
   ]
  },
  {
   "cell_type": "code",
   "execution_count": 15,
   "id": "2c481515",
   "metadata": {},
   "outputs": [],
   "source": [
    "# Basic preprocessing\n",
    "preprocess_images(input_dataset_folder, preprocessed_folder)"
   ]
  },
  {
   "cell_type": "markdown",
   "id": "c1e0a1fa",
   "metadata": {},
   "source": [
    "# clahe"
   ]
  },
  {
   "cell_type": "code",
   "execution_count": 16,
   "id": "214db7bf",
   "metadata": {},
   "outputs": [],
   "source": [
    "import cv2\n",
    "import os\n",
    "from pathlib import Path\n",
    "from tqdm import tqdm"
   ]
  },
  {
   "cell_type": "code",
   "execution_count": 17,
   "id": "26ea7f1a",
   "metadata": {},
   "outputs": [],
   "source": [
    "# Function to apply CLAHE to an image (handles both colored and grayscale)\n",
    "def apply_clahe(image):\n",
    "    if len(image.shape) == 3:  # Colored image (3 channels)\n",
    "        lab = cv2.cvtColor(image, cv2.COLOR_RGB2LAB)\n",
    "        l_channel = lab[:, :, 0]\n",
    "        clahe = cv2.createCLAHE(clipLimit=3.0, tileGridSize=(8, 8))\n",
    "        clahe_img = clahe.apply(l_channel)\n",
    "        lab[:, :, 0] = clahe_img\n",
    "        result_image = cv2.cvtColor(lab, cv2.COLOR_LAB2RGB)\n",
    "    else:  # Grayscale image (1 channel)\n",
    "        clahe = cv2.createCLAHE(clipLimit=3.0, tileGridSize=(8, 8))\n",
    "        result_image = clahe.apply(image)\n",
    "    \n",
    "    return result_image"
   ]
  },
  {
   "cell_type": "code",
   "execution_count": 19,
   "id": "14144092",
   "metadata": {},
   "outputs": [],
   "source": [
    "# Path to the folder containing your original images\n",
    "input_folder = \"C:/Users/SANYA CHANDEL/Desktop/new_preprocessed\"\n",
    "\n",
    "# Path to the folder where you want to save the processed images\n",
    "output_folder = \"C:/Users/SANYA CHANDEL/Desktop/new_clahe\""
   ]
  },
  {
   "cell_type": "code",
   "execution_count": 20,
   "id": "a53d18f2",
   "metadata": {},
   "outputs": [
    {
     "name": "stderr",
     "output_type": "stream",
     "text": [
      "100%|██████████████████████████████████████████████████████████████████████████████████| 51/51 [00:00<00:00, 68.17it/s]\n",
      "100%|██████████████████████████████████████████████████████████████████████████████████| 58/58 [00:00<00:00, 81.08it/s]\n",
      "100%|██████████████████████████████████████████████████████████████████████████████████| 48/48 [00:00<00:00, 71.30it/s]\n",
      "100%|██████████████████████████████████████████████████████████████████████████████████| 56/56 [00:00<00:00, 75.07it/s]\n"
     ]
    }
   ],
   "source": [
    "# Loop through each class folder in the input folder\n",
    "for class_folder in os.listdir(input_folder):\n",
    "    class_path = os.path.join(input_folder, class_folder)\n",
    "    \n",
    "    # Create a corresponding class folder in the output folder\n",
    "    output_class_path = os.path.join(output_folder, class_folder)\n",
    "    Path(output_class_path).mkdir(parents=True, exist_ok=True)\n",
    "    \n",
    "    # Loop through each image in the class folder\n",
    "    for image_file in tqdm(os.listdir(class_path)):\n",
    "        image_path = os.path.join(class_path, image_file)\n",
    "        \n",
    "        # Read the image\n",
    "        img = cv2.imread(image_path)\n",
    "        \n",
    "        # Check if the image is not None before processing\n",
    "        if img is not None:\n",
    "            # Handle colored and grayscale images\n",
    "            if len(img.shape) == 3:  # Colored image (3 channels)\n",
    "                img = cv2.cvtColor(img, cv2.COLOR_BGR2RGB)\n",
    "            elif len(img.shape) == 2:  # Grayscale image (1 channel)\n",
    "                img = cv2.cvtColor(img, cv2.COLOR_GRAY2RGB)\n",
    "            \n",
    "            # Apply CLAHE\n",
    "            processed_img = apply_clahe(img)\n",
    "            \n",
    "            # Save the processed image to the output folder\n",
    "            output_path = os.path.join(output_class_path, image_file)\n",
    "            cv2.imwrite(output_path, cv2.cvtColor(processed_img, cv2.COLOR_RGB2BGR))\n",
    "        else:\n",
    "            print(f\"Failed to read image: {image_path}\")"
   ]
  },
  {
   "cell_type": "markdown",
   "id": "f0600637",
   "metadata": {},
   "source": [
    "# train-test split & augmentation"
   ]
  },
  {
   "cell_type": "code",
   "execution_count": 22,
   "id": "b15d0055",
   "metadata": {},
   "outputs": [],
   "source": [
    "# Function for splitting dataset and applying augmentation\n",
    "def split_and_augment(input_folder, output_train_folder, output_test_folder, augmentation_params):\n",
    "    classes = os.listdir(input_folder)\n",
    "\n",
    "    for class_name in classes:\n",
    "        class_path = os.path.join(input_folder, class_name)\n",
    "        images = [os.path.join(class_path, filename) for filename in os.listdir(class_path)]\n",
    "\n",
    "        # Split into train and test sets\n",
    "        train_images, test_images = train_test_split(images, test_size=0.2, random_state=42)\n",
    "\n",
    "        # Create output folders\n",
    "        train_class_path = os.path.join(output_train_folder, class_name)\n",
    "        test_class_path = os.path.join(output_test_folder, class_name)\n",
    "        os.makedirs(train_class_path, exist_ok=True)\n",
    "        os.makedirs(test_class_path, exist_ok=True)\n",
    "\n",
    "        # Augmentation for training set only\n",
    "        datagen = ImageDataGenerator(**augmentation_params)\n",
    "\n",
    "        for img_path in train_images:\n",
    "            img = cv2.imread(img_path)\n",
    "            img = cv2.cvtColor(img, cv2.COLOR_BGR2RGB)\n",
    "            img = img / 255.0  # Normalize to [0, 1]\n",
    "\n",
    "            # Expand dimensions for Keras ImageDataGenerator\n",
    "            img = np.expand_dims(img, axis=0)\n",
    "\n",
    "            # Generate augmented images\n",
    "            augmented_images = datagen.flow(img, batch_size=1)\n",
    "\n",
    "            for i in range(5):  # Number of augmented images per input image\n",
    "                augmented_image = augmented_images.next()[0]\n",
    "                augmented_image = (augmented_image * 255.0).astype(np.uint8)\n",
    "\n",
    "                # Save augmented image\n",
    "                output_path = os.path.join(train_class_path, f\"aug_{i}_{os.path.basename(img_path)}\")\n",
    "                cv2.imwrite(output_path, augmented_image)\n",
    "\n",
    "        # Copy test set images to the output folder\n",
    "        for img_path in test_images:\n",
    "            output_path = os.path.join(test_class_path, os.path.basename(img_path))\n",
    "            img = cv2.imread(img_path)\n",
    "            cv2.imwrite(output_path, img)"
   ]
  },
  {
   "cell_type": "code",
   "execution_count": 23,
   "id": "cb60bb34",
   "metadata": {},
   "outputs": [],
   "source": [
    "clahe_folder = \"C:/Users/SANYA CHANDEL/Desktop/new_clahe\"\n",
    "train_aug_folder = \"C:/Users/SANYA CHANDEL/Desktop/new_train\"\n",
    "test_aug_folder = \"C:/Users/SANYA CHANDEL/Desktop/new_test\""
   ]
  },
  {
   "cell_type": "code",
   "execution_count": 24,
   "id": "a780e1bc",
   "metadata": {},
   "outputs": [],
   "source": [
    "# Split and augment\n",
    "augmentation_params = {\n",
    "    'rotation_range': 20,\n",
    "    'width_shift_range': 0.2,\n",
    "    'height_shift_range': 0.2,\n",
    "    'shear_range': 0.2,\n",
    "    'zoom_range': 0.2,\n",
    "    'horizontal_flip': True,\n",
    "    'fill_mode': 'nearest'\n",
    "}\n",
    "\n",
    "split_and_augment(clahe_folder, train_aug_folder, test_aug_folder, augmentation_params)"
   ]
  },
  {
   "cell_type": "code",
   "execution_count": null,
   "id": "0a3ae995",
   "metadata": {},
   "outputs": [],
   "source": []
  }
 ],
 "metadata": {
  "kernelspec": {
   "display_name": "Python 3 (ipykernel)",
   "language": "python",
   "name": "python3"
  },
  "language_info": {
   "codemirror_mode": {
    "name": "ipython",
    "version": 3
   },
   "file_extension": ".py",
   "mimetype": "text/x-python",
   "name": "python",
   "nbconvert_exporter": "python",
   "pygments_lexer": "ipython3",
   "version": "3.10.6"
  }
 },
 "nbformat": 4,
 "nbformat_minor": 5
}
