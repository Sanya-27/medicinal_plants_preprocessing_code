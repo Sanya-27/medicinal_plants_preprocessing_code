{
 "cells": [
  {
   "cell_type": "code",
   "execution_count": 1,
   "id": "7bdc94f7",
   "metadata": {},
   "outputs": [],
   "source": [
    "import cv2\n",
    "import os\n",
    "from pathlib import Path\n",
    "from tqdm import tqdm"
   ]
  },
  {
   "cell_type": "code",
   "execution_count": 6,
   "id": "5dbf65be",
   "metadata": {},
   "outputs": [],
   "source": [
    "\n",
    "# Function to apply CLAHE to an image (handles both colored and grayscale)\n",
    "def apply_clahe(image):\n",
    "    if len(image.shape) == 3:  # Colored image (3 channels)\n",
    "        lab = cv2.cvtColor(image, cv2.COLOR_RGB2LAB)\n",
    "        l_channel = lab[:, :, 0]\n",
    "        clahe = cv2.createCLAHE(clipLimit=3.0, tileGridSize=(8, 8))\n",
    "        clahe_img = clahe.apply(l_channel)\n",
    "        lab[:, :, 0] = clahe_img\n",
    "        result_image = cv2.cvtColor(lab, cv2.COLOR_LAB2RGB)\n",
    "    else:  # Grayscale image (1 channel)\n",
    "        clahe = cv2.createCLAHE(clipLimit=3.0, tileGridSize=(8, 8))\n",
    "        result_image = clahe.apply(image)\n",
    "    \n",
    "    return result_image"
   ]
  },
  {
   "cell_type": "code",
   "execution_count": 7,
   "id": "63848a27",
   "metadata": {},
   "outputs": [],
   "source": [
    "# Path to the folder containing your original images\n",
    "input_folder = \"C:/Users/SANYA CHANDEL/Desktop/combined_images\"\n",
    "\n",
    "# Path to the folder where you want to save the processed images\n",
    "output_folder = \"C:/Users/SANYA CHANDEL/Desktop/clahe_output_dataset\"\n"
   ]
  },
  {
   "cell_type": "markdown",
   "id": "12e4c8bc",
   "metadata": {},
   "source": []
  },
  {
   "cell_type": "code",
   "execution_count": 8,
   "id": "2447726f",
   "metadata": {},
   "outputs": [],
   "source": [
    "# Create the output folder if it doesn't exist\n",
    "Path(output_folder).mkdir(parents=True, exist_ok=True)"
   ]
  },
  {
   "cell_type": "code",
   "execution_count": 9,
   "id": "e3f91748",
   "metadata": {},
   "outputs": [
    {
     "name": "stderr",
     "output_type": "stream",
     "text": [
      "100%|███████████████████████████████████████████████████████████████████████████████| 313/313 [00:02<00:00, 126.61it/s]\n"
     ]
    },
    {
     "name": "stdout",
     "output_type": "stream",
     "text": [
      "Failed to read image: C:/Users/SANYA CHANDEL/Desktop/combined_images\\broadleaf\\desktop.ini\n"
     ]
    },
    {
     "name": "stderr",
     "output_type": "stream",
     "text": [
      "100%|████████████████████████████████████████████████████████████████████████████████| 348/348 [00:03<00:00, 87.64it/s]\n",
      "100%|████████████████████████████████████████████████████████████████████████████████| 300/300 [00:03<00:00, 90.25it/s]\n",
      "100%|████████████████████████████████████████████████████████████████████████████████| 336/336 [00:03<00:00, 86.22it/s]\n"
     ]
    }
   ],
   "source": [
    "# Loop through each class folder in the input folder\n",
    "for class_folder in os.listdir(input_folder):\n",
    "    class_path = os.path.join(input_folder, class_folder)\n",
    "    \n",
    "    # Create a corresponding class folder in the output folder\n",
    "    output_class_path = os.path.join(output_folder, class_folder)\n",
    "    Path(output_class_path).mkdir(parents=True, exist_ok=True)\n",
    "    \n",
    "    # Loop through each image in the class folder\n",
    "    for image_file in tqdm(os.listdir(class_path)):\n",
    "        image_path = os.path.join(class_path, image_file)\n",
    "        \n",
    "        # Read the image\n",
    "        img = cv2.imread(image_path)\n",
    "        \n",
    "        # Check if the image is not None before processing\n",
    "        if img is not None:\n",
    "            # Handle colored and grayscale images\n",
    "            if len(img.shape) == 3:  # Colored image (3 channels)\n",
    "                img = cv2.cvtColor(img, cv2.COLOR_BGR2RGB)\n",
    "            elif len(img.shape) == 2:  # Grayscale image (1 channel)\n",
    "                img = cv2.cvtColor(img, cv2.COLOR_GRAY2RGB)\n",
    "            \n",
    "            # Apply CLAHE\n",
    "            processed_img = apply_clahe(img)\n",
    "            \n",
    "            # Save the processed image to the output folder\n",
    "            output_path = os.path.join(output_class_path, image_file)\n",
    "            cv2.imwrite(output_path, cv2.cvtColor(processed_img, cv2.COLOR_RGB2BGR))\n",
    "        else:\n",
    "            print(f\"Failed to read image: {image_path}\")"
   ]
  },
  {
   "cell_type": "code",
   "execution_count": 14,
   "id": "ca160e8c",
   "metadata": {},
   "outputs": [],
   "source": [
    "import os\n",
    "import shutil\n",
    "from sklearn.model_selection import train_test_split\n",
    "\n",
    "# Path to the processed dataset\n",
    "dataset_folder = \"C:/Users/SANYA CHANDEL/Desktop/clahe_output_dataset\"\n",
    "\n",
    "# Path to the folder where you want to save the train and test sets\n",
    "output_train_folder = \"C:/Users/SANYA CHANDEL/Desktop/clahe_output_train\"\n",
    "output_test_folder = \"C:/Users/SANYA CHANDEL/Desktop/clahe_output_test\"\n",
    "\n",
    "# Create train and test folders if they don't exist\n",
    "Path(output_train_folder).mkdir(parents=True, exist_ok=True)\n",
    "Path(output_test_folder).mkdir(parents=True, exist_ok=True)\n",
    "\n",
    "# Loop through each class folder in the processed dataset\n",
    "for class_folder in os.listdir(dataset_folder):\n",
    "    class_path = os.path.join(dataset_folder, class_folder)\n",
    "    \n",
    "    # Create corresponding class folders in train and test sets\n",
    "    train_class_path = os.path.join(output_train_folder, class_folder)\n",
    "    test_class_path = os.path.join(output_test_folder, class_folder)\n",
    "    Path(train_class_path).mkdir(parents=True, exist_ok=True)\n",
    "    Path(test_class_path).mkdir(parents=True, exist_ok=True)\n",
    "    \n",
    "    # List all images in the class folder\n",
    "    images = [img for img in os.listdir(class_path) if img.endswith(\".jpg\")]\n",
    "    \n",
    "    # Split the images into train and test sets (80:20 ratio)\n",
    "    train_images, test_images = train_test_split(images, test_size=0.2, random_state=42)\n",
    "    \n",
    "    # Copy images to train folder\n",
    "    for train_image in train_images:\n",
    "        src_path = os.path.join(class_path, train_image)\n",
    "        dest_path = os.path.join(train_class_path, train_image)\n",
    "        shutil.copy(src_path, dest_path)\n",
    "    \n",
    "    # Copy images to test folder\n",
    "    for test_image in test_images:\n",
    "        src_path = os.path.join(class_path, test_image)\n",
    "        dest_path = os.path.join(test_class_path, test_image)\n",
    "        shutil.copy(src_path, dest_path)\n"
   ]
  },
  {
   "cell_type": "code",
   "execution_count": null,
   "id": "751bde0b",
   "metadata": {},
   "outputs": [],
   "source": []
  }
 ],
 "metadata": {
  "kernelspec": {
   "display_name": "Python 3 (ipykernel)",
   "language": "python",
   "name": "python3"
  },
  "language_info": {
   "codemirror_mode": {
    "name": "ipython",
    "version": 3
   },
   "file_extension": ".py",
   "mimetype": "text/x-python",
   "name": "python",
   "nbconvert_exporter": "python",
   "pygments_lexer": "ipython3",
   "version": "3.10.6"
  }
 },
 "nbformat": 4,
 "nbformat_minor": 5
}
